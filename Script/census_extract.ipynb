{
 "cells": [
  {
   "cell_type": "markdown",
   "metadata": {},
   "source": [
    "### This code extracts the desired variables from the ACS5 2018 Census on a Congressional District level to include in the interactive map"
   ]
  },
  {
   "cell_type": "markdown",
   "metadata": {},
   "source": [
    "#### The desired variables are as follows:\n",
    "##### Mexican pop\n",
    "\n",
    "B03001_004E - Estimate!Total!Hispanic or Latino!!Mexican\n",
    "\n",
    "__\n",
    "##### Latino pop\n",
    "B03001_003E - Estimate!!Total!!Hispanic or Latino \n",
    "\n",
    "_\n",
    "##### Total population\n",
    "\n",
    "B02001_001E - Estimate!!Total (Race) (Total population)\n",
    "    "
   ]
  },
  {
   "cell_type": "code",
   "execution_count": 1,
   "metadata": {},
   "outputs": [],
   "source": [
    "import tabpy"
   ]
  },
  {
   "cell_type": "code",
   "execution_count": 24,
   "metadata": {},
   "outputs": [],
   "source": [
    "import pandas as pd\n",
    "import us\n",
    "import census \n",
    "from us import states \n",
    "from census import Census"
   ]
  },
  {
   "cell_type": "code",
   "execution_count": 25,
   "metadata": {},
   "outputs": [],
   "source": [
    "#saving API key, opening session, and specifying variables\n",
    "\n",
    "KEY = '0bde28441892c9a213ccb5782415c27f88130a35'\n",
    "C = Census(key, year=2018)\n",
    "CODES = {'B03001_004E': \"Mexican Pop\", 'B03001_003E': 'Latino Pop', 'B02001_001E' : 'Total Pop'}\n",
    "\n",
    "#extracting information from census and loading into data frame\n",
    "\n",
    "cong = C.acs5.state_congressional_district(list(CODES.keys()), \"*\", \"*\")\n",
    "cong = pd.DataFrame(cong)"
   ]
  },
  {
   "cell_type": "code",
   "execution_count": 26,
   "metadata": {},
   "outputs": [],
   "source": [
    "def format_district(row):\n",
    "    '''\n",
    "    This function formats congressional district into the format of the district shape files,\n",
    "    given the current format provided by the census library\n",
    "    '''\n",
    "    if row == '00':\n",
    "        return 'Congressional District (at Large)'\n",
    "    elif row == '98':\n",
    "        return 'Delegate District (at Large)'\n",
    "    elif row[0] == '0':\n",
    "        return 'Congressional District ' + row.replace('0', '')\n",
    "    else:\n",
    "        return 'Congressional District ' + row"
   ]
  },
  {
   "cell_type": "code",
   "execution_count": 27,
   "metadata": {},
   "outputs": [],
   "source": [
    "#converting FIPS to state names\n",
    "\n",
    "cong['Name'] = cong['state'].apply(lambda x: str(states.lookup(x)))\n",
    "\n",
    "#Renaming code columns\n",
    "cong.rename(columns=CODES, inplace=True)\n",
    "\n",
    "#dropping obsolete congressional districts and Puerto Rico\n",
    "\n",
    "cong = cong[cong['congressional district'] != 'ZZ']\n",
    "cong= cong[cong['Name'] != 'Puerto Rico']\n",
    "\n",
    "#string cleaning with function above\n",
    "\n",
    "cong['Namelsad'] = cong['congressional district'].apply(format_district)"
   ]
  },
  {
   "cell_type": "code",
   "execution_count": 28,
   "metadata": {},
   "outputs": [],
   "source": [
    "#for spreadsheet organization\n",
    "cong.sort_values(by=['Name', 'congressional district'], inplace=True)"
   ]
  },
  {
   "cell_type": "code",
   "execution_count": 30,
   "metadata": {},
   "outputs": [],
   "source": [
    "#selecting desired columns \n",
    "df = cong[['Mexican Pop', 'Latino Pop', 'Total Pop', 'Name', 'Namelsad']]\n",
    "\n",
    "#export dataframe to excel\n",
    "df.to_excel(\"./Data/census_data.xlsx\")"
   ]
  }
 ],
 "metadata": {
  "kernelspec": {
   "display_name": "Python 3",
   "language": "python",
   "name": "python3"
  },
  "language_info": {
   "codemirror_mode": {
    "name": "ipython",
    "version": 3
   },
   "file_extension": ".py",
   "mimetype": "text/x-python",
   "name": "python",
   "nbconvert_exporter": "python",
   "pygments_lexer": "ipython3",
   "version": "3.8.3"
  }
 },
 "nbformat": 4,
 "nbformat_minor": 4
}
