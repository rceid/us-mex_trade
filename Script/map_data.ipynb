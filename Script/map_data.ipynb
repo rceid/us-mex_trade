{
 "cells": [
  {
   "cell_type": "markdown",
   "metadata": {},
   "source": [
    "### Loading and cleaning Congressional Map"
   ]
  },
  {
   "cell_type": "code",
   "execution_count": 1,
   "metadata": {},
   "outputs": [],
   "source": [
    "import geopandas as gpd\n",
    "import pandas as pd\n",
    "import matplotlib.pyplot as plt"
   ]
  },
  {
   "cell_type": "markdown",
   "metadata": {},
   "source": [
    "Loading the Congressional District Shape File from url:\n",
    "\n",
    "https://catalog.data.gov/dataset/tiger-line-shapefile-2018-nation-u-s-116th-congressional-district-national"
   ]
  },
  {
   "cell_type": "code",
   "execution_count": 61,
   "metadata": {},
   "outputs": [
    {
     "name": "stdout",
     "output_type": "stream",
     "text": [
      "444\n"
     ]
    },
    {
     "data": {
      "text/plain": [
       "<matplotlib.axes._subplots.AxesSubplot at 0x225965aaa00>"
      ]
     },
     "execution_count": 61,
     "metadata": {},
     "output_type": "execute_result"
    },
    {
     "data": {
      "image/png": "[encoded data removed]",
      "text/plain": [
       "<Figure size 432x288 with 1 Axes>"
      ]
     },
     "metadata": {
      "needs_background": "light"
     },
     "output_type": "display_data"
    }
   ],
   "source": []
  },
  {
   "cell_type": "code",
   "execution_count": 49,
   "metadata": {},
   "outputs": [],
   "source": [
    "shape = gpd.read_file('C:\\\\Users\\\\Ray\\\\Downloads\\\\tl_2019_us_cd116\\\\tl_2019_us_cd116.shp')\n",
    "shape.rename(columns={'STATEFP': 'State (FIPS)'}, inplace=True)\n",
    "shape['State (FIPS)'] = shape['State (FIPS)'].astype(int)\n",
    "merged = pd.merge(fips_state, shape, on='State (FIPS)', how='right')"
   ]
  },
  {
   "cell_type": "code",
   "execution_count": 9,
   "metadata": {},
   "outputs": [],
   "source": [
    "congress = gpd.read_file(\"https://www2.census.gov/geo/tiger/TIGER2018/CD/tl_2018_us_cd116.zip\")\n",
    "congress.rename(columns={'STATEFP': 'State (FIPS)', 'NAMELSAD': 'District Number' },inplace=True)\n",
    "congress['State (FIPS)'] = congress['State (FIPS)'].astype(int)"
   ]
  },
  {
   "cell_type": "markdown",
   "metadata": {},
   "source": [
    "Loading FIPS State indexer to get state names"
   ]
  },
  {
   "cell_type": "code",
   "execution_count": 3,
   "metadata": {},
   "outputs": [],
   "source": [
    "fips_state = pd.read_excel(\n",
    "                    \"https://www2.census.gov/programs-surveys/popest/geographies/2016/state-geocodes-v2016.xls\", \n",
    "                           header=5, usecols=['State (FIPS)', 'Name'])\n",
    "\n",
    "fips_state = fips_state[fips_state['State (FIPS)'] != 0]\n",
    "fips_state.rename(columns={'Name': 'State Name'},inplace=True)"
   ]
  },
  {
   "cell_type": "markdown",
   "metadata": {},
   "source": [
    "Merging the FIPS and congressional Map and further cleaning\n",
    "Line 2: dropping Guam, US Virgin Islands, Puerto Rico, American Samoa, Northern Marina Islands, found via the FIPS code \n",
    "\n",
    "https://en.wikipedia.org/wiki/Federal_Information_Processing_Standard_state_code"
   ]
  },
  {
   "cell_type": "code",
   "execution_count": 27,
   "metadata": {},
   "outputs": [
    {
     "data": {
      "text/html": [
       "<div>\n",
       "<style scoped>\n",
       "    .dataframe tbody tr th:only-of-type {\n",
       "        vertical-align: middle;\n",
       "    }\n",
       "\n",
       "    .dataframe tbody tr th {\n",
       "        vertical-align: top;\n",
       "    }\n",
       "\n",
       "    .dataframe thead th {\n",
       "        text-align: right;\n",
       "    }\n",
       "</style>\n",
       "<table border=\"1\" class=\"dataframe\">\n",
       "  <thead>\n",
       "    <tr style=\"text-align: right;\">\n",
       "      <th></th>\n",
       "      <th>State (FIPS)</th>\n",
       "      <th>State Name</th>\n",
       "      <th>CD116FP</th>\n",
       "      <th>GEOID</th>\n",
       "      <th>District Number</th>\n",
       "      <th>LSAD</th>\n",
       "      <th>CDSESSN</th>\n",
       "      <th>MTFCC</th>\n",
       "      <th>FUNCSTAT</th>\n",
       "      <th>ALAND</th>\n",
       "      <th>AWATER</th>\n",
       "      <th>INTPTLAT</th>\n",
       "      <th>INTPTLON</th>\n",
       "      <th>geometry</th>\n",
       "    </tr>\n",
       "  </thead>\n",
       "  <tbody>\n",
       "    <tr>\n",
       "      <th>439</th>\n",
       "      <td>69</td>\n",
       "      <td>NaN</td>\n",
       "      <td>98</td>\n",
       "      <td>6998</td>\n",
       "      <td>Delegate District (at Large)</td>\n",
       "      <td>C4</td>\n",
       "      <td>116</td>\n",
       "      <td>G5200</td>\n",
       "      <td>N</td>\n",
       "      <td>472292529</td>\n",
       "      <td>4644252461</td>\n",
       "      <td>+14.9300771</td>\n",
       "      <td>+145.6425305</td>\n",
       "      <td>MULTIPOLYGON (((146.00199 16.02878, 146.01425 ...</td>\n",
       "    </tr>\n",
       "    <tr>\n",
       "      <th>440</th>\n",
       "      <td>66</td>\n",
       "      <td>NaN</td>\n",
       "      <td>98</td>\n",
       "      <td>6698</td>\n",
       "      <td>Delegate District (at Large)</td>\n",
       "      <td>C4</td>\n",
       "      <td>116</td>\n",
       "      <td>G5200</td>\n",
       "      <td>N</td>\n",
       "      <td>543555840</td>\n",
       "      <td>934337453</td>\n",
       "      <td>+13.4382886</td>\n",
       "      <td>+144.7729493</td>\n",
       "      <td>POLYGON ((144.56343 13.44806, 144.56357 13.450...</td>\n",
       "    </tr>\n",
       "    <tr>\n",
       "      <th>441</th>\n",
       "      <td>78</td>\n",
       "      <td>NaN</td>\n",
       "      <td>98</td>\n",
       "      <td>7898</td>\n",
       "      <td>Delegate District (at Large)</td>\n",
       "      <td>C4</td>\n",
       "      <td>116</td>\n",
       "      <td>G5200</td>\n",
       "      <td>N</td>\n",
       "      <td>348021896</td>\n",
       "      <td>1550236201</td>\n",
       "      <td>+18.2758499</td>\n",
       "      <td>-064.8903849</td>\n",
       "      <td>MULTIPOLYGON (((-64.95671 17.67898, -64.95638 ...</td>\n",
       "    </tr>\n",
       "    <tr>\n",
       "      <th>442</th>\n",
       "      <td>72</td>\n",
       "      <td>NaN</td>\n",
       "      <td>98</td>\n",
       "      <td>7298</td>\n",
       "      <td>Resident Commissioner District (at Large)</td>\n",
       "      <td>C3</td>\n",
       "      <td>116</td>\n",
       "      <td>G5200</td>\n",
       "      <td>N</td>\n",
       "      <td>8868896030</td>\n",
       "      <td>4922382562</td>\n",
       "      <td>+18.2176480</td>\n",
       "      <td>-066.4107992</td>\n",
       "      <td>MULTIPOLYGON (((-67.32325 18.36388, -67.32227 ...</td>\n",
       "    </tr>\n",
       "    <tr>\n",
       "      <th>443</th>\n",
       "      <td>60</td>\n",
       "      <td>NaN</td>\n",
       "      <td>98</td>\n",
       "      <td>6098</td>\n",
       "      <td>Delegate District (at Large)</td>\n",
       "      <td>C4</td>\n",
       "      <td>116</td>\n",
       "      <td>G5200</td>\n",
       "      <td>N</td>\n",
       "      <td>197759063</td>\n",
       "      <td>1307243754</td>\n",
       "      <td>-14.2671590</td>\n",
       "      <td>-170.6682674</td>\n",
       "      <td>MULTIPOLYGON (((-168.22527 -14.53591, -168.224...</td>\n",
       "    </tr>\n",
       "  </tbody>\n",
       "</table>\n",
       "</div>"
      ],
      "text/plain": [
       "     State (FIPS) State Name CD116FP GEOID  \\\n",
       "439            69        NaN      98  6998   \n",
       "440            66        NaN      98  6698   \n",
       "441            78        NaN      98  7898   \n",
       "442            72        NaN      98  7298   \n",
       "443            60        NaN      98  6098   \n",
       "\n",
       "                               District Number LSAD CDSESSN  MTFCC FUNCSTAT  \\\n",
       "439               Delegate District (at Large)   C4     116  G5200        N   \n",
       "440               Delegate District (at Large)   C4     116  G5200        N   \n",
       "441               Delegate District (at Large)   C4     116  G5200        N   \n",
       "442  Resident Commissioner District (at Large)   C3     116  G5200        N   \n",
       "443               Delegate District (at Large)   C4     116  G5200        N   \n",
       "\n",
       "          ALAND      AWATER     INTPTLAT      INTPTLON  \\\n",
       "439   472292529  4644252461  +14.9300771  +145.6425305   \n",
       "440   543555840   934337453  +13.4382886  +144.7729493   \n",
       "441   348021896  1550236201  +18.2758499  -064.8903849   \n",
       "442  8868896030  4922382562  +18.2176480  -066.4107992   \n",
       "443   197759063  1307243754  -14.2671590  -170.6682674   \n",
       "\n",
       "                                              geometry  \n",
       "439  MULTIPOLYGON (((146.00199 16.02878, 146.01425 ...  \n",
       "440  POLYGON ((144.56343 13.44806, 144.56357 13.450...  \n",
       "441  MULTIPOLYGON (((-64.95671 17.67898, -64.95638 ...  \n",
       "442  MULTIPOLYGON (((-67.32325 18.36388, -67.32227 ...  \n",
       "443  MULTIPOLYGON (((-168.22527 -14.53591, -168.224...  "
      ]
     },
     "execution_count": 27,
     "metadata": {},
     "output_type": "execute_result"
    }
   ],
   "source": [
    "cong_map = pd.merge(fips_state, congress, on='State (FIPS)', how='right')\n",
    "cong_map = cong_map[~cong_map['State Name'].isna()]\n",
    "cong_map[cong_map['State Name'].isna()]"
   ]
  },
  {
   "cell_type": "code",
   "execution_count": 35,
   "metadata": {},
   "outputs": [
    {
     "data": {
      "text/html": [
       "<div>\n",
       "<style scoped>\n",
       "    .dataframe tbody tr th:only-of-type {\n",
       "        vertical-align: middle;\n",
       "    }\n",
       "\n",
       "    .dataframe tbody tr th {\n",
       "        vertical-align: top;\n",
       "    }\n",
       "\n",
       "    .dataframe thead th {\n",
       "        text-align: right;\n",
       "    }\n",
       "</style>\n",
       "<table border=\"1\" class=\"dataframe\">\n",
       "  <thead>\n",
       "    <tr style=\"text-align: right;\">\n",
       "      <th></th>\n",
       "      <th>State (FIPS)</th>\n",
       "      <th>State Name</th>\n",
       "      <th>CD116FP</th>\n",
       "      <th>GEOID</th>\n",
       "      <th>District Number</th>\n",
       "      <th>LSAD</th>\n",
       "      <th>CDSESSN</th>\n",
       "      <th>MTFCC</th>\n",
       "      <th>FUNCSTAT</th>\n",
       "      <th>ALAND</th>\n",
       "      <th>AWATER</th>\n",
       "      <th>INTPTLAT</th>\n",
       "      <th>INTPTLON</th>\n",
       "      <th>geometry</th>\n",
       "    </tr>\n",
       "  </thead>\n",
       "  <tbody>\n",
       "    <tr>\n",
       "      <th>176</th>\n",
       "      <td>11</td>\n",
       "      <td>District of Columbia</td>\n",
       "      <td>98</td>\n",
       "      <td>1198</td>\n",
       "      <td>Delegate District (at Large)</td>\n",
       "      <td>C4</td>\n",
       "      <td>116</td>\n",
       "      <td>G5200</td>\n",
       "      <td>N</td>\n",
       "      <td>158340391</td>\n",
       "      <td>18687198</td>\n",
       "      <td>+38.9041031</td>\n",
       "      <td>-077.0172290</td>\n",
       "      <td>POLYGON ((-77.11975 38.93435, -77.11886 38.935...</td>\n",
       "    </tr>\n",
       "  </tbody>\n",
       "</table>\n",
       "</div>"
      ],
      "text/plain": [
       "     State (FIPS)            State Name CD116FP GEOID  \\\n",
       "176            11  District of Columbia      98  1198   \n",
       "\n",
       "                  District Number LSAD CDSESSN  MTFCC FUNCSTAT      ALAND  \\\n",
       "176  Delegate District (at Large)   C4     116  G5200        N  158340391   \n",
       "\n",
       "       AWATER     INTPTLAT      INTPTLON  \\\n",
       "176  18687198  +38.9041031  -077.0172290   \n",
       "\n",
       "                                              geometry  \n",
       "176  POLYGON ((-77.11975 38.93435, -77.11886 38.935...  "
      ]
     },
     "execution_count": 35,
     "metadata": {},
     "output_type": "execute_result"
    }
   ],
   "source": [
    "cong_map.tail(10)\n",
    "cong_map[cong_map['CD116FP'] == '98']\n",
    "cong_map[cong_map['State Name'] == 'District of Columbia']"
   ]
  },
  {
   "cell_type": "markdown",
   "metadata": {},
   "source": []
  },
  {
   "cell_type": "markdown",
   "metadata": {},
   "source": [
    "Drop the outdated Congressional Districts in Connecticut, Illinois, and Michigan and restrict columns"
   ]
  },
  {
   "cell_type": "code",
   "execution_count": 5,
   "metadata": {},
   "outputs": [],
   "source": [
    "cong_map = cong_map[cong_map['District Number'] != 'Congressional Districts not defined']\n",
    "cong_map = cong_map[['State (FIPS)', 'State Name', 'District Number', 'geometry']]"
   ]
  },
  {
   "cell_type": "markdown",
   "metadata": {},
   "source": [
    "#### Exporting the file for later use in Tableau"
   ]
  },
  {
   "cell_type": "code",
   "execution_count": 6,
   "metadata": {},
   "outputs": [],
   "source": [
    "cong_map.to_excel('.\\\\congressional_map.xlsx')"
   ]
  },
  {
   "cell_type": "code",
   "execution_count": 8,
   "metadata": {},
   "outputs": [
    {
     "data": {
      "text/plain": [
       "array(['Congressional District 1', 'Congressional District 3',\n",
       "       'Congressional District 4', 'Congressional District 5',\n",
       "       'Congressional District 2', 'Congressional District 7',\n",
       "       'Congressional District 9', 'Congressional District 6',\n",
       "       'Congressional District 8', 'Congressional District (at Large)',\n",
       "       'Congressional District 10', 'Congressional District 11',\n",
       "       'Congressional District 12', 'Congressional District 27',\n",
       "       'Congressional District 17', 'Congressional District 14',\n",
       "       'Congressional District 24', 'Congressional District 16',\n",
       "       'Congressional District 15', 'Congressional District 23',\n",
       "       'Congressional District 18', 'Congressional District 20',\n",
       "       'Congressional District 25', 'Congressional District 21',\n",
       "       'Congressional District 13', 'Congressional District 26',\n",
       "       'Congressional District 22', 'Congressional District 19',\n",
       "       'Delegate District (at Large)', 'Congressional District 28',\n",
       "       'Congressional District 29', 'Congressional District 36',\n",
       "       'Congressional District 33', 'Congressional District 34',\n",
       "       'Congressional District 30', 'Congressional District 31',\n",
       "       'Congressional District 32', 'Congressional District 35',\n",
       "       'Congressional District 46', 'Congressional District 37',\n",
       "       'Congressional District 53', 'Congressional District 47',\n",
       "       'Congressional District 48', 'Congressional District 52',\n",
       "       'Congressional District 42', 'Congressional District 43',\n",
       "       'Congressional District 44', 'Congressional District 49',\n",
       "       'Congressional District 39', 'Congressional District 50',\n",
       "       'Congressional District 51', 'Congressional District 40',\n",
       "       'Congressional District 45', 'Congressional District 41',\n",
       "       'Congressional District 38'], dtype=object)"
      ]
     },
     "execution_count": 8,
     "metadata": {},
     "output_type": "execute_result"
    }
   ],
   "source": [
    "cong_map['District Number'].unique()"
   ]
  }
 ],
 "metadata": {
  "kernelspec": {
   "display_name": "Python 3",
   "language": "python",
   "name": "python3"
  },
  "language_info": {
   "codemirror_mode": {
    "name": "ipython",
    "version": 3
   },
   "file_extension": ".py",
   "mimetype": "text/x-python",
   "name": "python",
   "nbconvert_exporter": "python",
   "pygments_lexer": "ipython3",
   "version": "3.8.3"
  }
 },
 "nbformat": 4,
 "nbformat_minor": 4
}
